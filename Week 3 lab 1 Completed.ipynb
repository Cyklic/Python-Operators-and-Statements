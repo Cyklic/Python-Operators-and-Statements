{
  "cells": [
    {
      "cell_type": "markdown",
      "metadata": {
        "collapsed": true,
        "id": "XqAJR7SNlbp7"
      },
      "source": [
        "#  Lab 2\n"
      ]
    },
    {
      "cell_type": "markdown",
      "metadata": {
        "id": "fBJfPCDalbqE"
      },
      "source": [
        "#### Display you name and roll number"
      ]
    },
    {
      "cell_type": "code",
      "execution_count": 54,
      "metadata": {
        "colab": {
          "base_uri": "https://localhost:8080/"
        },
        "id": "78aJ6G-XlbqG",
        "outputId": "af07f86b-99a4-424e-af04-bf0d03dbb8d6"
      },
      "outputs": [
        {
          "output_type": "stream",
          "name": "stdout",
          "text": [
            "Name: Leonard Umoru \n",
            "Roll Number: 041152507\n"
          ]
        }
      ],
      "source": [
        "#Code here\n",
        "print('Name: Leonard Umoru \\nRoll Number: 041152507')"
      ]
    },
    {
      "cell_type": "markdown",
      "metadata": {
        "id": "-7_mxuEClbqJ"
      },
      "source": [
        "_____\n",
        "**Use <code>for</code>, .split(), and <code>if</code> to create a Statement that will print out words that start with 's':**"
      ]
    },
    {
      "cell_type": "code",
      "execution_count": 55,
      "metadata": {
        "id": "EaqcqpYjlbqL"
      },
      "outputs": [],
      "source": [
        "st = 'Print only the words that start with s in this sentence'"
      ]
    },
    {
      "cell_type": "code",
      "execution_count": 56,
      "metadata": {
        "colab": {
          "base_uri": "https://localhost:8080/"
        },
        "id": "vH0dSN9hlbqN",
        "outputId": "ea8d8e5d-cf95-4d26-d019-c396a4f80b41"
      },
      "outputs": [
        {
          "output_type": "stream",
          "name": "stdout",
          "text": [
            "start\n",
            "s\n",
            "sentence\n"
          ]
        }
      ],
      "source": [
        "#Code here\n",
        "for s_words in st.split(' '):\n",
        "  if s_words[0] == 's':\n",
        "    print(s_words)\n",
        ""
      ]
    },
    {
      "cell_type": "markdown",
      "metadata": {
        "id": "DXYxa55dlbqP"
      },
      "source": [
        "#### Write a Python program that takes a student's percentage and returns their grade based on the following criteria:"
      ]
    },
    {
      "cell_type": "raw",
      "metadata": {
        "id": "kfhZr3HVlbqR"
      },
      "source": [
        "\n",
        "\n",
        "90% and above: A\n",
        "\n",
        "80% to 89%: B\n",
        "\n",
        "70% to 79%: C\n",
        "\n",
        "60% to 69%: D\n",
        "\n",
        "Below 60%: F"
      ]
    },
    {
      "cell_type": "code",
      "execution_count": 57,
      "metadata": {
        "colab": {
          "base_uri": "https://localhost:8080/"
        },
        "id": "iLBXowGSlbqT",
        "outputId": "84107299-8d69-419c-d2fd-ed9c3e224e79"
      },
      "outputs": [
        {
          "output_type": "stream",
          "name": "stdout",
          "text": [
            "A\n"
          ]
        }
      ],
      "source": [
        "#Code here\n",
        "def grade(value):\n",
        "  if value >= 90:\n",
        "    print('A')\n",
        "  elif value >= 80 < 90:\n",
        "    print('B')\n",
        "  elif value >= 70 < 80:\n",
        "    print('C')\n",
        "  elif value >= 60 < 70:\n",
        "    print('D')\n",
        "  else:\n",
        "    print('F')\n",
        "\n",
        "grade(97)"
      ]
    },
    {
      "cell_type": "markdown",
      "metadata": {
        "id": "j6XjiwaBlbqV"
      },
      "source": [
        "#### Display all the even numbers from 0-100 using for loop"
      ]
    },
    {
      "cell_type": "code",
      "execution_count": 58,
      "metadata": {
        "colab": {
          "base_uri": "https://localhost:8080/"
        },
        "id": "YU8bD1lYlbqV",
        "outputId": "eb476d1d-0393-43ff-a8d2-5eff2877cc2b"
      },
      "outputs": [
        {
          "output_type": "stream",
          "name": "stdout",
          "text": [
            "0\n",
            "2\n",
            "4\n",
            "6\n",
            "8\n",
            "10\n",
            "12\n",
            "14\n",
            "16\n",
            "18\n",
            "20\n",
            "22\n",
            "24\n",
            "26\n",
            "28\n",
            "30\n",
            "32\n",
            "34\n",
            "36\n",
            "38\n",
            "40\n",
            "42\n",
            "44\n",
            "46\n",
            "48\n",
            "50\n",
            "52\n",
            "54\n",
            "56\n",
            "58\n",
            "60\n",
            "62\n",
            "64\n",
            "66\n",
            "68\n",
            "70\n",
            "72\n",
            "74\n",
            "76\n",
            "78\n",
            "80\n",
            "82\n",
            "84\n",
            "86\n",
            "88\n",
            "90\n",
            "92\n",
            "94\n",
            "96\n",
            "98\n",
            "100\n"
          ]
        }
      ],
      "source": [
        "#Code here\n",
        "for num in range(101):\n",
        "  if num % 2 == 0:\n",
        "    print(num)"
      ]
    },
    {
      "cell_type": "markdown",
      "metadata": {
        "id": "97c_H3walbqW"
      },
      "source": [
        "#### Use range() to print all the even numbers from 0 to 100"
      ]
    },
    {
      "cell_type": "code",
      "execution_count": 59,
      "metadata": {
        "collapsed": true,
        "colab": {
          "base_uri": "https://localhost:8080/"
        },
        "id": "SG1mck2nlbqX",
        "outputId": "683f9444-4f3d-4af7-a2e2-299c4262c510"
      },
      "outputs": [
        {
          "output_type": "stream",
          "name": "stdout",
          "text": [
            "0 2 4 6 8 10 12 14 16 18 20 22 24 26 28 30 32 34 36 38 40 42 44 46 48 50 52 54 56 58 60 62 64 66 68 70 72 74 76 78 80 82 84 86 88 90 92 94 96 98 100 "
          ]
        }
      ],
      "source": [
        "#Code Here\n",
        "for num in range(0,101, 2):\n",
        "  print(num, end=' ')"
      ]
    },
    {
      "cell_type": "markdown",
      "metadata": {
        "id": "VRcGrTUKlbqX"
      },
      "source": [
        "#### Use a List Comprehension to create a list of all numbers between 1 and 100 that are divisible by 3"
      ]
    },
    {
      "cell_type": "code",
      "execution_count": 60,
      "metadata": {
        "collapsed": true,
        "colab": {
          "base_uri": "https://localhost:8080/"
        },
        "id": "mYqiBSqylbqY",
        "outputId": "a3e779e5-6639-40bd-a167-ef7ac3ea7d4a"
      },
      "outputs": [
        {
          "output_type": "stream",
          "name": "stdout",
          "text": [
            "[3, 6, 9, 12, 15, 18, 21, 24, 27, 30, 33, 36, 39, 42, 45, 48, 51, 54, 57, 60, 63, 66, 69, 72, 75, 78, 81, 84, 87, 90, 93, 96, 99]\n"
          ]
        }
      ],
      "source": [
        "#Code in this cell\n",
        "num_list = []\n",
        "for num in range(1,101):\n",
        "  if num % 3 == 0:\n",
        "    num_list.append(num)\n",
        "print(num_list)"
      ]
    },
    {
      "cell_type": "markdown",
      "metadata": {
        "id": "7lMb4_LNlbqY"
      },
      "source": [
        "#### Print all elements of a list using a for loop\n"
      ]
    },
    {
      "cell_type": "raw",
      "metadata": {
        "id": "HmUF8LVSlbqZ"
      },
      "source": [
        "Given the list numbers = [3, 5, 7, 9, 11], write a program that prints each element using a for loop."
      ]
    },
    {
      "cell_type": "code",
      "execution_count": 61,
      "metadata": {
        "colab": {
          "base_uri": "https://localhost:8080/"
        },
        "id": "AayP2JTRlbqZ",
        "outputId": "625f5183-9f0d-42c2-c656-7ce52976c4d5"
      },
      "outputs": [
        {
          "output_type": "stream",
          "name": "stdout",
          "text": [
            "3\n",
            "5\n",
            "7\n",
            "9\n",
            "11\n"
          ]
        }
      ],
      "source": [
        "#Code Here\n",
        "numbers = [3, 5, 7, 9, 11]\n",
        "for element in numbers:\n",
        "  print(element)"
      ]
    },
    {
      "cell_type": "markdown",
      "metadata": {
        "id": "fvFEy0i4lbqa"
      },
      "source": [
        "#### Write a program to print multiplication table of  3"
      ]
    },
    {
      "cell_type": "code",
      "execution_count": 62,
      "metadata": {
        "colab": {
          "base_uri": "https://localhost:8080/"
        },
        "id": "4BkqyOCIlbqa",
        "outputId": "496586c5-ba0d-4805-f1ce-1f76368eab32"
      },
      "outputs": [
        {
          "output_type": "stream",
          "name": "stdout",
          "text": [
            "3 x 1 = 3\n",
            "3 x 2 = 6\n",
            "3 x 3 = 9\n",
            "3 x 4 = 12\n",
            "3 x 5 = 15\n",
            "3 x 6 = 18\n",
            "3 x 7 = 21\n",
            "3 x 8 = 24\n",
            "3 x 9 = 27\n",
            "3 x 10 = 30\n",
            "3 x 11 = 33\n",
            "3 x 12 = 36\n"
          ]
        }
      ],
      "source": [
        "#Code here\n",
        "for i in range(1,13):\n",
        "  print(f'3 x {i} = {3*i}')"
      ]
    },
    {
      "cell_type": "markdown",
      "metadata": {
        "id": "iWY63hI6lbqb"
      },
      "source": [
        "_____\n",
        "**Go through the string below and if the length of a word is even print \"even!\"**"
      ]
    },
    {
      "cell_type": "code",
      "execution_count": 63,
      "metadata": {
        "collapsed": true,
        "id": "aBRNe3uolbqc"
      },
      "outputs": [],
      "source": [
        "st = 'Print every word in this sentence that has an even number of letters'"
      ]
    },
    {
      "cell_type": "code",
      "execution_count": 64,
      "metadata": {
        "collapsed": true,
        "colab": {
          "base_uri": "https://localhost:8080/"
        },
        "id": "Yp3AZOQtlbqc",
        "outputId": "317bcb70-b2ee-4ba8-f7a0-b58bf339ed46"
      },
      "outputs": [
        {
          "output_type": "stream",
          "name": "stdout",
          "text": [
            "word\n",
            "in\n",
            "this\n",
            "sentence\n",
            "that\n",
            "an\n",
            "even\n",
            "number\n",
            "of\n"
          ]
        }
      ],
      "source": [
        "#Code in this cell\n",
        "for word in st.split(' '):\n",
        "  if len(word) % 2 == 0:\n",
        "    print(word)"
      ]
    },
    {
      "cell_type": "markdown",
      "metadata": {
        "id": "oZNc05rilbqd"
      },
      "source": [
        "____\n",
        "**Write a program that prints the integers from 1 to 100. But for multiples of three print \"Fizz\" instead of the number, and for the multiples of five print \"Buzz\". For numbers which are multiples of both three and five print \"FizzBuzz\".**"
      ]
    },
    {
      "cell_type": "code",
      "execution_count": 65,
      "metadata": {
        "collapsed": true,
        "colab": {
          "base_uri": "https://localhost:8080/"
        },
        "id": "Y0bzimAalbqd",
        "outputId": "6abe1c72-7890-43f5-b53f-c520e3d15b3e"
      },
      "outputs": [
        {
          "output_type": "stream",
          "name": "stdout",
          "text": [
            "1\n",
            "2\n",
            "Fizz\n",
            "4\n",
            "Buzz\n",
            "Fizz\n",
            "7\n",
            "8\n",
            "Fizz\n",
            "Buzz\n",
            "11\n",
            "Fizz\n",
            "13\n",
            "14\n",
            "FizzBuzz\n",
            "16\n",
            "17\n",
            "Fizz\n",
            "19\n",
            "Buzz\n",
            "Fizz\n",
            "22\n",
            "23\n",
            "Fizz\n",
            "Buzz\n",
            "26\n",
            "Fizz\n",
            "28\n",
            "29\n",
            "FizzBuzz\n",
            "31\n",
            "32\n",
            "Fizz\n",
            "34\n",
            "Buzz\n",
            "Fizz\n",
            "37\n",
            "38\n",
            "Fizz\n",
            "Buzz\n",
            "41\n",
            "Fizz\n",
            "43\n",
            "44\n",
            "FizzBuzz\n",
            "46\n",
            "47\n",
            "Fizz\n",
            "49\n",
            "Buzz\n",
            "Fizz\n",
            "52\n",
            "53\n",
            "Fizz\n",
            "Buzz\n",
            "56\n",
            "Fizz\n",
            "58\n",
            "59\n",
            "FizzBuzz\n",
            "61\n",
            "62\n",
            "Fizz\n",
            "64\n",
            "Buzz\n",
            "Fizz\n",
            "67\n",
            "68\n",
            "Fizz\n",
            "Buzz\n",
            "71\n",
            "Fizz\n",
            "73\n",
            "74\n",
            "FizzBuzz\n",
            "76\n",
            "77\n",
            "Fizz\n",
            "79\n",
            "Buzz\n",
            "Fizz\n",
            "82\n",
            "83\n",
            "Fizz\n",
            "Buzz\n",
            "86\n",
            "Fizz\n",
            "88\n",
            "89\n",
            "FizzBuzz\n",
            "91\n",
            "92\n",
            "Fizz\n",
            "94\n",
            "Buzz\n",
            "Fizz\n",
            "97\n",
            "98\n",
            "Fizz\n",
            "Buzz\n"
          ]
        }
      ],
      "source": [
        "#Code in this cell\n",
        "for integers in range(1, 101):\n",
        "  if integers % 3 == 0 and integers % 5 == 0:\n",
        "    print('FizzBuzz')\n",
        "  elif integers % 3 == 0:\n",
        "    print('Fizz')\n",
        "  elif integers % 5 == 0:\n",
        "    print('Buzz')\n",
        "  else:\n",
        "    print(integers)"
      ]
    },
    {
      "cell_type": "markdown",
      "metadata": {
        "id": "5iBHJVkElbqe"
      },
      "source": [
        "____\n",
        "**Use List Comprehension to create a list of the first letters of every word in the string below:**"
      ]
    },
    {
      "cell_type": "code",
      "execution_count": 66,
      "metadata": {
        "collapsed": true,
        "id": "sfkI2Q91lbqe"
      },
      "outputs": [],
      "source": [
        "st = 'Create a list of the first letters of every word in this string'"
      ]
    },
    {
      "cell_type": "code",
      "execution_count": 67,
      "metadata": {
        "collapsed": true,
        "colab": {
          "base_uri": "https://localhost:8080/"
        },
        "id": "YC8Dii4hlbqg",
        "outputId": "7680c31d-84c1-4a39-a135-e623acca4b6e"
      },
      "outputs": [
        {
          "output_type": "stream",
          "name": "stdout",
          "text": [
            "['C', 'a', 'l', 'o', 't', 'f', 'l', 'o', 'e', 'w', 'i', 't', 's']\n"
          ]
        }
      ],
      "source": [
        "#Code in this cell\n",
        "ltr_list = []\n",
        "for word in st.split(' '):\n",
        "  letter = word[0]\n",
        "  ltr_list.append(letter)\n",
        "print(ltr_list)"
      ]
    },
    {
      "cell_type": "markdown",
      "metadata": {
        "id": "RpPPXp1-lbqh"
      },
      "source": [
        "### Great Job!"
      ]
    },
    {
      "cell_type": "code",
      "source": [],
      "metadata": {
        "id": "GDoaX28z-Xzl"
      },
      "execution_count": null,
      "outputs": []
    }
  ],
  "metadata": {
    "kernelspec": {
      "display_name": "Python 3 (ipykernel)",
      "language": "python",
      "name": "python3"
    },
    "language_info": {
      "codemirror_mode": {
        "name": "ipython",
        "version": 3
      },
      "file_extension": ".py",
      "mimetype": "text/x-python",
      "name": "python",
      "nbconvert_exporter": "python",
      "pygments_lexer": "ipython3",
      "version": "3.10.9"
    },
    "colab": {
      "provenance": []
    }
  },
  "nbformat": 4,
  "nbformat_minor": 0
}